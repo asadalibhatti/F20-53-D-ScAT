{
  "nbformat": 4,
  "nbformat_minor": 0,
  "metadata": {
    "colab": {
      "name": "A_Hybrid_Model_for_Aggregation_Text_Documents_Using_Text_Rank_Algorithm_and_Term_Frequency_(2).ipynb",
      "provenance": [],
      "collapsed_sections": []
    },
    "kernelspec": {
      "display_name": "Python 3",
      "language": "python",
      "name": "python3"
    },
    "language_info": {
      "codemirror_mode": {
        "name": "ipython",
        "version": 3
      },
      "file_extension": ".py",
      "mimetype": "text/x-python",
      "name": "python",
      "nbconvert_exporter": "python",
      "pygments_lexer": "ipython3",
      "version": "3.7.4"
    }
  },
  "cells": [
    {
      "cell_type": "code",
      "metadata": {
        "id": "tFYYOQANS6jE",
        "colab": {
          "base_uri": "https://localhost:8080/"
        },
        "outputId": "c287d40b-5ee9-40a8-dc93-74d777ff1f37"
      },
      "source": [
        "import nltk\r\n",
        "nltk.download(\"stopwords\")\r\n",
        "nltk.download(\"punkt\")"
      ],
      "execution_count": 13,
      "outputs": [
        {
          "output_type": "stream",
          "text": [
            "[nltk_data] Downloading package stopwords to /root/nltk_data...\n",
            "[nltk_data]   Unzipping corpora/stopwords.zip.\n",
            "[nltk_data] Downloading package punkt to /root/nltk_data...\n",
            "[nltk_data]   Package punkt is already up-to-date!\n"
          ],
          "name": "stdout"
        },
        {
          "output_type": "execute_result",
          "data": {
            "text/plain": [
              "True"
            ]
          },
          "metadata": {
            "tags": []
          },
          "execution_count": 13
        }
      ]
    },
    {
      "cell_type": "code",
      "metadata": {
        "id": "6Q612mgYIpJ3"
      },
      "source": [
        "import pandas as pd\n",
        "import numpy as np\n",
        "from sklearn.feature_extraction.text import TfidfVectorizer\n",
        "from sklearn.metrics.pairwise import cosine_similarity\n",
        "from nltk.tokenize import word_tokenize\n",
        "from nltk.corpus import stopwords\n",
        "from nltk.tokenize import word_tokenize\n",
        "from scipy import sparse\n",
        "import re\n",
        "import networkx as nx\n",
        "import string\n",
        "import matplotlib.pyplot as plt"
      ],
      "execution_count": 14,
      "outputs": []
    },
    {
      "cell_type": "code",
      "metadata": {
        "id": "wgl8AsLQH5-Z"
      },
      "source": [
        "TopicA = \"'Professor' a Mohammad Hafeez ends 2020 with most T20I runs\"\r\n",
        "TopicB = \"Pakistan takes the steps in light of new Covid virus strain detected in UK\"\r\n",
        "TopicC = 'Hafeez silences critics by ending 2020 as top run-scorer in T20 internationals'\r\n",
        "\r\n"
      ],
      "execution_count": 15,
      "outputs": []
    },
    {
      "cell_type": "code",
      "metadata": {
        "colab": {
          "base_uri": "https://localhost:8080/"
        },
        "id": "to2yabiSH6ZZ",
        "outputId": "89877d8b-9670-401f-a0f2-b548d1ee97bd"
      },
      "source": [
        "# Convert the text to lowercase\r\n",
        "listT = [TopicA,TopicB,TopicC]\r\n",
        "listT = [x.lower() for x in listT]\r\n",
        "print(listT)"
      ],
      "execution_count": 16,
      "outputs": [
        {
          "output_type": "stream",
          "text": [
            "[\"'professor' a mohammad hafeez ends 2020 with most t20i runs\", 'pakistan takes the steps in light of new covid virus strain detected in uk', 'hafeez silences critics by ending 2020 as top run-scorer in t20 internationals']\n"
          ],
          "name": "stdout"
        }
      ]
    },
    {
      "cell_type": "code",
      "metadata": {
        "colab": {
          "base_uri": "https://localhost:8080/"
        },
        "id": "h0YASdxqH6lT",
        "outputId": "0a30ee0f-fdc8-42e1-8f18-bbe6951348fb"
      },
      "source": [
        "# Remove the Numbers\r\n",
        "count=0\r\n",
        "for x in listT:\r\n",
        "   listT[count] = re.sub(r'\\d+', '', x)\r\n",
        "   count+=1\r\n",
        "print(listT)"
      ],
      "execution_count": 17,
      "outputs": [
        {
          "output_type": "stream",
          "text": [
            "[\"'professor' a mohammad hafeez ends  with most ti runs\", 'pakistan takes the steps in light of new covid virus strain detected in uk', 'hafeez silences critics by ending  as top run-scorer in t internationals']\n"
          ],
          "name": "stdout"
        }
      ]
    },
    {
      "cell_type": "code",
      "metadata": {
        "id": "tDwLcoIKUBxW",
        "colab": {
          "base_uri": "https://localhost:8080/"
        },
        "outputId": "24dcad8d-9fcb-4034-98f7-ce4965e6fa5d"
      },
      "source": [
        "# remove punctuations\n",
        "listT = [''.join(c for c in s if c not in string.punctuation) for s in listT]\n",
        "\n",
        "print(listT)\n"
      ],
      "execution_count": 18,
      "outputs": [
        {
          "output_type": "stream",
          "text": [
            "['professor a mohammad hafeez ends  with most ti runs', 'pakistan takes the steps in light of new covid virus strain detected in uk', 'hafeez silences critics by ending  as top runscorer in t internationals']\n"
          ],
          "name": "stdout"
        }
      ]
    },
    {
      "cell_type": "code",
      "metadata": {
        "colab": {
          "base_uri": "https://localhost:8080/"
        },
        "id": "om3QPNOuQbbd",
        "outputId": "9f8ebf0e-c41a-45c7-dde0-983edaf07c6d"
      },
      "source": [
        "# Remove whitespaces\r\n",
        "listT = [x.strip(' ') for x in listT]\r\n",
        "print(listT)"
      ],
      "execution_count": 19,
      "outputs": [
        {
          "output_type": "stream",
          "text": [
            "['professor a mohammad hafeez ends  with most ti runs', 'pakistan takes the steps in light of new covid virus strain detected in uk', 'hafeez silences critics by ending  as top runscorer in t internationals']\n"
          ],
          "name": "stdout"
        }
      ]
    },
    {
      "cell_type": "code",
      "metadata": {
        "colab": {
          "base_uri": "https://localhost:8080/"
        },
        "id": "gmUOlvt3QbNs",
        "outputId": "1df1740e-900e-493a-ee3a-e6a792ca4640"
      },
      "source": [
        "# Removal of stopwords\r\n",
        "#en_stops = set(stopwords.words('english'))\r\n",
        "#print(en_stops)\r\n",
        "\r\n",
        "\r\n",
        "for count,ele in enumerate(listT): \r\n",
        "  text_tokens = word_tokenize(ele)\r\n",
        "  tokeniz_list = [word for word in text_tokens if not word in stopwords.words()]\r\n",
        "  sentence = (\" \").join(tokeniz_list)\r\n",
        "  listT[count] = sentence\r\n",
        "  \r\n",
        "print(listT)\r\n",
        "\r\n"
      ],
      "execution_count": 20,
      "outputs": [
        {
          "output_type": "stream",
          "text": [
            "['professor mohammad hafeez ends runs', 'pakistan takes steps light new covid virus strain detected uk', 'hafeez silences critics ending top runscorer internationals']\n"
          ],
          "name": "stdout"
        }
      ]
    },
    {
      "cell_type": "code",
      "metadata": {
        "colab": {
          "base_uri": "https://localhost:8080/"
        },
        "id": "uD1df-LtQa7t",
        "outputId": "c3133a06-2416-4d19-afeb-ab2ae3005da0"
      },
      "source": [
        "# Lemmatization\r\n",
        "from nltk.stem import PorterStemmer\r\n",
        "from nltk.tokenize import word_tokenize\r\n",
        "stemmer= PorterStemmer()\r\n",
        "\r\n",
        "count =0\r\n",
        "for line in listT:\r\n",
        "  x = \"\"\r\n",
        "  line=word_tokenize(line)\r\n",
        "  for word in line:\r\n",
        "      x = x+\" \" + str(stemmer.stem(word))\r\n",
        "  listT[count] = x\r\n",
        "  count +=1\r\n",
        "\r\n",
        "print(listT)"
      ],
      "execution_count": 21,
      "outputs": [
        {
          "output_type": "stream",
          "text": [
            "[' professor mohammad hafeez end run', ' pakistan take step light new covid viru strain detect uk', ' hafeez silenc critic end top runscor intern']\n"
          ],
          "name": "stdout"
        }
      ]
    },
    {
      "cell_type": "code",
      "metadata": {
        "id": "6wgxM4lCUYOQ"
      },
      "source": [
        "def AggregationRank(sentences, s):\n",
        "  vectorizer = TfidfVectorizer()\n",
        "  vectors = vectorizer.fit_transform(sentences)\n",
        "  feature_names = vectorizer.get_feature_names()\n",
        "  dense = vectors.todense()\n",
        "  denselist = dense.tolist()\n",
        "  df = pd.DataFrame(denselist, columns=feature_names)\n",
        "  print(\"TF-IDF:\")\n",
        "  print(df)\n",
        "\n",
        "  array = df.to_numpy()\n",
        "  A_sparse = sparse.csr_matrix(array)\n",
        "  cosineSimilaritiesSparse = cosine_similarity(A_sparse)\n",
        "  cosineSimilarities = cosine_similarity(A_sparse,dense_output=False)\n",
        "  print('Cosine Similary:\\n {}\\n'.format(cosineSimilarities))\n",
        "\n",
        "  #replace 1 with 0\n",
        "  sim = cosineSimilarities.toarray()\n",
        "  sim[sim == 1] = 0\n",
        "\n",
        "  print('Similariy Matrix:\\n {}\\n'.format(sim))\n",
        "\n",
        "  # rank = pageRank(cosineSimilarities.toarray(),s)\n",
        "  G = nx.from_numpy_array(sim)\n",
        "  rank = nx.pagerank_numpy(G, alpha=s)\n",
        "\n",
        "  G = nx.from_numpy_array(sim)\n",
        "  pos = nx.spring_layout(G)\n",
        "  nx.draw_networkx_nodes(G, pos, cmap=plt.get_cmap('jet'), node_size = 500)\n",
        "  nx.draw_networkx_labels(G, pos)\n",
        "  nx.draw_networkx_edges(G, pos, edge_color='r', arrows=True)\n",
        "  nx.draw_networkx_edges(G, pos, arrows=False)\n",
        "  plt.show()\n",
        "\n",
        "  print(\"Page rank:\")\n",
        "  print(rank)\n",
        "  return rank;"
      ],
      "execution_count": 22,
      "outputs": []
    },
    {
      "cell_type": "code",
      "metadata": {
        "colab": {
          "base_uri": "https://localhost:8080/",
          "height": 605
        },
        "id": "Evi2MxM1dHjf",
        "outputId": "6d0d7633-e638-43d7-f797-649f69dbd333"
      },
      "source": [
        "#doc = \"According to Zameen Trends for buying apartments in Rawalpindi, Bahria Town has been the most sought-out place for buyers. If we look at the trends within Bahria, Bahria Town Phases 8, 7 and 4 saw the most interest from buyers in November. The society’s popularity is also due to its central location which is easily accessible from Islamabad Expressway, Faisal Avenue, and GT Road, including Phase 2, CBR Town, Phase 2, DHA, Soan Garden, Pakistan Town, and Gulistan Colony. According to Zameen.com’s data, the search volume for Bahria Town Rawalpindi apartments increased by 118% between 2018 and 2020; the highest rise observed among all property types in the society.. During this period, search volume for commercial units rose by 95%, while that for houses stood at 70%. With an increasing demand for apartments comes higher prospects for rental yield. Investing in an apartment at Bahria Town Rawalpindi guarantees solid rental yield, while the value of your property will continue to rise as well. Zameen.com’s data says that the average per square foot price of an apartment in Bahria Town Rawalpindi increased by 33% in the last three years, whereas prices of houses here remained mostly stable during this period.\"\n",
        "#doc = doc.replace(\",\",\".\")\n",
        "#sentences = doc.split(\".\")\n",
        "\n",
        "s = 0.3\n",
        "rank = AggregationRank( listT, s)\n",
        "\n",
        "threshold = rank.mean()\n",
        "#res = 0\n",
        "#for val in rank.values(): \n",
        "#    res += val \n",
        "#threshold = res/len(rank)\n",
        "#summary = \"\"\n",
        "\n",
        "#for i, key in enumerate(rank):\n",
        "#  if (rank[key] > threshold):\n",
        "#    summary = summary + str(sentences[i]) + \".\\n\"\n"
      ],
      "execution_count": 24,
      "outputs": [
        {
          "output_type": "stream",
          "text": [
            "TF-IDF:\n",
            "      covid    critic    detect  ...       top        uk      viru\n",
            "0  0.000000  0.000000  0.000000  ...  0.000000  0.000000  0.000000\n",
            "1  0.316228  0.000000  0.316228  ...  0.000000  0.316228  0.316228\n",
            "2  0.000000  0.403016  0.000000  ...  0.403016  0.000000  0.000000\n",
            "\n",
            "[3 rows x 20 columns]\n",
            "Cosine Similary:\n",
            "   (0, 2)\t0.22866562283345077\n",
            "  (0, 0)\t1.0\n",
            "  (1, 1)\t1.0000000000000007\n",
            "  (2, 0)\t0.22866562283345077\n",
            "  (2, 2)\t1.0000000000000002\n",
            "\n",
            "Similariy Matrix:\n",
            " [[0.         0.         0.22866562]\n",
            " [0.         1.         0.        ]\n",
            " [0.22866562 0.         1.        ]]\n",
            "\n"
          ],
          "name": "stdout"
        },
        {
          "output_type": "display_data",
          "data": {
            "image/png": "[encoded data removed]",
            "text/plain": [
              "<Figure size 432x288 with 1 Axes>"
            ]
          },
          "metadata": {
            "tags": []
          }
        },
        {
          "output_type": "stream",
          "text": [
            "Page rank:\n",
            "{0: 0.2562480993002129, 1: 0.33333333333333326, 2: 0.4104185673664538}\n"
          ],
          "name": "stdout"
        }
      ]
    },
    {
      "cell_type": "code",
      "metadata": {
        "id": "LWwdqaEoj5TR"
      },
      "source": [
        ""
      ],
      "execution_count": null,
      "outputs": []
    }
  ]
}